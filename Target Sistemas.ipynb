{
 "cells": [
  {
   "cell_type": "markdown",
   "id": "e3fafd71",
   "metadata": {},
   "source": [
    "# Target Sistemas"
   ]
  },
  {
   "cell_type": "markdown",
   "id": "a1f3f533",
   "metadata": {},
   "source": [
    "\n",
    "Gera um sistema que me dê o resultado do script a seguir:\n"
   ]
  },
  {
   "cell_type": "code",
   "execution_count": 1,
   "id": "9af16992",
   "metadata": {},
   "outputs": [
    {
     "name": "stdout",
     "output_type": "stream",
     "text": [
      "91\n"
     ]
    }
   ],
   "source": [
    "#Declarações de variáveis \n",
    "INDICE = 13\n",
    "SOMA = 0\n",
    "K = 0\n",
    "\n",
    "while K < INDICE:\n",
    "    K = K + 1\n",
    "    SOMA = SOMA + K\n",
    "    \n",
    "#Resultado\n",
    "print(SOMA)"
   ]
  },
  {
   "cell_type": "markdown",
   "id": "4978dbdf",
   "metadata": {},
   "source": [
    "\n"
   ]
  },
  {
   "cell_type": "markdown",
   "id": "049d1638",
   "metadata": {},
   "source": [
    "Programa que verifica se um número pertence a sequência de Fibonacci"
   ]
  },
  {
   "cell_type": "code",
   "execution_count": 2,
   "id": "72b2ee81",
   "metadata": {},
   "outputs": [
    {
     "name": "stdout",
     "output_type": "stream",
     "text": [
      "Digite um número: 8\n",
      "O número 8 pertence à sequência de Fibonacci.\n"
     ]
    }
   ],
   "source": [
    "num = int(input(\"Digite um número: \"))\n",
    "\n",
    "fib = [0, 1]\n",
    "\n",
    "while fib[-1] < num:\n",
    "    fib.append(fib[-1] + fib[-2])\n",
    "    \n",
    "#Verificação se o número pertence a Fibo.    \n",
    "if num in fib:\n",
    "    print(f\"O número {num} pertence à sequência de Fibonacci.\")\n",
    "else:\n",
    "    print(f\"O número {num} não pertence à sequência de Fibonacci.\")"
   ]
  },
  {
   "cell_type": "markdown",
   "id": "1358b5d4",
   "metadata": {},
   "source": [
    "\n"
   ]
  },
  {
   "cell_type": "markdown",
   "id": "f502577e",
   "metadata": {},
   "source": [
    "Programa que gera o próximo número da sequencia."
   ]
  },
  {
   "cell_type": "code",
   "execution_count": 3,
   "id": "181f7b59",
   "metadata": {},
   "outputs": [],
   "source": [
    "#Sequencia a)\n",
    "ultimo_termo_seq_a = 7\n",
    "proximo_termo_seq_a = ultimo_termo_seq_a + 2\n",
    "\n",
    "#Sequencia b)\n",
    "ultimo_termo_seq_b= 64\n",
    "proximo_termo_seq_b = ultimo_termo_seq_b * 2\n",
    "\n",
    "#Sequencia c)\n",
    "ultimo_termo_seq_c = 36\n",
    "proximo_numero_natural_seq_c = 7 # o próximo número natural após 6 é 7\n",
    "proximo_termo_seq_c = proximo_numero_natural_seq_c ** 2\n",
    "\n",
    "#Sequencia d)\n",
    "ultimo_termo_seq_d = 64\n",
    "proximo_numero_par_seq_d = 10 # o próximo número par após 8 é 10\n",
    "proximo_termo_seq_d = proximo_numero_par_seq_d ** 2\n",
    "\n",
    "#Sequencia e)\n",
    "ultimo_termo_seq_e = 8\n",
    "penultimo_termo_seq_e = 5\n",
    "proximo_termo_seq_e = ultimo_termo_seq_e + penultimo_termo_seq_e\n",
    "\n",
    "#Sequencia f)\n",
    "ultimo_termo_seq_f = 19\n",
    "if ultimo_termo_seq_f == 16:\n",
    "    proximo_termo_seq_f = ultimo_termo_seq_f + 1\n",
    "else:\n",
    "    proximo_termo_seq_f = ultimo_termo_seq_f + 2\n",
    "\n",
    "\n"
   ]
  },
  {
   "cell_type": "code",
   "execution_count": 4,
   "id": "4a1a0a83",
   "metadata": {},
   "outputs": [
    {
     "name": "stdout",
     "output_type": "stream",
     "text": [
      "O proximo número da sequencia a é: 9\n",
      "O proximo número da sequencia b é: 128\n",
      "O proximo número da sequencia c é: 49\n",
      "O proximo número da sequencia d é: 100\n",
      "O proximo número da sequencia e é: 13\n",
      "O proximo número da sequencia f é: 21\n"
     ]
    }
   ],
   "source": [
    "print(\"O proximo número da sequencia a é:\", proximo_termo_seq_a) # saída: 9\n",
    "print(\"O proximo número da sequencia b é:\", proximo_termo_seq_b) # saída: 128\n",
    "print(\"O proximo número da sequencia c é:\", proximo_termo_seq_c) # saída: 49\n",
    "print(\"O proximo número da sequencia d é:\", proximo_termo_seq_d) # saída: 100\n",
    "print(\"O proximo número da sequencia e é:\", proximo_termo_seq_e) # saída: 13\n",
    "print(\"O proximo número da sequencia f é:\", proximo_termo_seq_f) # saída: 21"
   ]
  },
  {
   "cell_type": "markdown",
   "id": "91408ddd",
   "metadata": {},
   "source": [
    "\n"
   ]
  },
  {
   "cell_type": "markdown",
   "id": "caf3a0cd",
   "metadata": {},
   "source": [
    "Programa que verifica qual Automovel está mais proximo."
   ]
  },
  {
   "cell_type": "code",
   "execution_count": 5,
   "id": "ff2eb86c",
   "metadata": {},
   "outputs": [
    {
     "name": "stdout",
     "output_type": "stream",
     "text": [
      "O caminhão está mais próximo de Ribeirão Preto.\n"
     ]
    }
   ],
   "source": [
    "# Distância entre Ribeirão Preto e Franca\n",
    "dist_total = 100  # km\n",
    "\n",
    "# Velocidade do carro e do caminhão\n",
    "veloc_carro = 110  # km/h\n",
    "veloc_caminhao = 80  # km/h\n",
    "\n",
    "# Tempo para passar pelos pedágios\n",
    "temp_pedagios_c = 2 * 5 / 60  # horas\n",
    "\n",
    "# Distância percorrida pelo carro até o encontro com o caminhão\n",
    "temp_encontro = dist_total / (veloc_carro + veloc_caminhao)\n",
    "dist_carro = veloc_carro * temp_encontro\n",
    "\n",
    "# Distância percorrida pelo caminhão até o encontro com o carro\n",
    "dist_caminhao = (veloc_caminhao * (temp_encontro + temp_pedagios_c))\n",
    "\n",
    "# Verifica qual veículo está mais próximo de Ribeirão Preto\n",
    "if dist_carro < dist_caminhao:\n",
    "    print(\"O carro está mais próximo de Ribeirão Preto.\")\n",
    "else:\n",
    "    print(\"O caminhão está mais próximo de Ribeirão Preto.\")\n"
   ]
  },
  {
   "cell_type": "markdown",
   "id": "f247d394",
   "metadata": {},
   "source": [
    "\n"
   ]
  },
  {
   "cell_type": "markdown",
   "id": "557150ff",
   "metadata": {},
   "source": [
    "Programa que inverte uma string."
   ]
  },
  {
   "cell_type": "code",
   "execution_count": 6,
   "id": "d555f393",
   "metadata": {},
   "outputs": [
    {
     "name": "stdout",
     "output_type": "stream",
     "text": [
      "Digite uma palavra: tcj\n",
      "String original: tcj\n",
      "String invertida: jct\n"
     ]
    }
   ],
   "source": [
    "#Recebe a tring\n",
    "string = input(\"Digite uma palavra: \")\n",
    "inversa = string[::-1]\n",
    "\n",
    "# Imprime a string com o formato original e o invertido\n",
    "print(\"String original:\", string)\n",
    "print(\"String invertida:\", inversa)\n"
   ]
  }
 ],
 "metadata": {
  "kernelspec": {
   "display_name": "Python 3 (ipykernel)",
   "language": "python",
   "name": "python3"
  },
  "language_info": {
   "codemirror_mode": {
    "name": "ipython",
    "version": 3
   },
   "file_extension": ".py",
   "mimetype": "text/x-python",
   "name": "python",
   "nbconvert_exporter": "python",
   "pygments_lexer": "ipython3",
   "version": "3.9.13"
  }
 },
 "nbformat": 4,
 "nbformat_minor": 5
}
